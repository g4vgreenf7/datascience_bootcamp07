from random import sample
def playgame():
  options = ["ss","hm","pp"]
  stage = 1
  point = 0
  print("*****Pao-Ying-Chub challenge in 20 games*****")
  print("(Option Key: 'ss' = ✂, 'hm' = 🔨,  'pp' = 📄)")
  print("_______Put 'exit' to finish the game_______")
  print("**********************************************")
  while stage < 21:
     think = input(f"Game #{stage} Input your best option: ")
     if think=="exit":
      break
     else:
       botl = sample(options, 1)
       bot = "".join(botl)
       if (think=="ss" and bot=="pp")or(think=="pp" and bot=="hm")or(think=="hm" and bot=="ss"):
        point = point+1
        print("You win!")
       elif (think=="ss"and bot=="hm")or(think=="pp" and bot=="ss")or(think=="hm" and bot=="pp"):
        point = point-1
        print("You lose!")
       elif think==bot:
        print("Draw")
       else:
        print("Your choice is incorrect, please choose again")
     if think=="ss" or think=="hm" or think=="pp":
      print(f"Game #{stage} Bot counters you with : {bot}")
      print(f"(Counting points : {point})")
      if stage==20:
        print("---------------FINISH---------------")
        break

      stage = stage+1

  print(f"🎉Congrats! You can score {point} points from {stage} games")
  print("Thank you for playing")
  print("*************************************")
